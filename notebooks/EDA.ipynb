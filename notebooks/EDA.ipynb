{
 "cells": [
  {
   "cell_type": "markdown",
   "id": "6dc4e67b",
   "metadata": {},
   "source": [
    "# Task 1: Exploratory Data Analysis (EDA)\n",
    "\n",
    "This notebook covers the first task of the challenge: loading, cleaning, exploring, and analyzing the historical financial data for Tesla (TSLA), Vanguard Total Bond Market ETF (BND), and S&P 500 ETF (SPY)."
   ]
  },
  {
   "cell_type": "code",
   "execution_count": null,
   "id": "3a4991e9",
   "metadata": {
    "vscode": {
     "languageId": "plaintext"
    }
   },
   "outputs": [],
   "source": [
    "import pandas as pd\n",
    "import numpy as np\n",
    "import matplotlib.pyplot as plt\n",
    "import seaborn as sns\n",
    "from statsmodels.tsa.stattools import adfuller\n",
    "\n",
    "# Set plot style\n",
    "sns.set(style='whitegrid')\n",
    "plt.rcParams['figure.figsize'] = (15, 7)\n"
   ]
  },
  {
   "cell_type": "markdown",
   "id": "551825ba",
   "metadata": {},
   "source": [
    "## 1. Load and Inspect Data\n",
    "\n",
    "First, we load the raw data for each of the three assets that we fetched using `yfinance`. We'll parse the 'Date' column as the index for our time series analysis."
   ]
  },
  {
   "cell_type": "code",
   "execution_count": null,
   "id": "155d95c8",
   "metadata": {
    "vscode": {
     "languageId": "plaintext"
    }
   },
   "outputs": [],
   "source": [
    "# Load the datasets\n",
    "try:\n",
    "    tsla_df = pd.read_csv('../data/raw/TSLA.csv', index_col='Date', parse_dates=True)\n",
    "    bnd_df = pd.read_csv('../data/raw/BND.csv', index_col='Date', parse_dates=True)\n",
    "    spy_df = pd.read_csv('../data/raw/SPY.csv', index_col='Date', parse_dates=True)\n",
    "    print(\"Data loaded successfully.\")\n",
    "except FileNotFoundError as e:\n",
    "    print(f\"Error: {e}. Make sure you have run the src/data_fetch.py script first.\")\n",
    "\n",
    "# Display the first few rows of each dataframe\n",
    "print(\"TSLA Data:\")\n",
    "display(tsla_df.head())\n",
    "print(\"\\nBND Data:\")\n",
    "display(bnd_df.head())\n",
    "print(\"\\nSPY Data:\")\n",
    "display(spy_df.head())"
   ]
  },
  {
   "cell_type": "markdown",
   "id": "53687c52",
   "metadata": {},
   "source": [
    "## 2. Data Cleaning and Understanding\n",
    "\n",
    "We'll check for missing values and look at the basic descriptive statistics for each asset. [cite_start]The `Adj Close` price is used as it accounts for dividends and stock splits, providing a more accurate representation of returns[cite: 31]."
   ]
  },
  {
   "cell_type": "code",
   "execution_count": null,
   "id": "9044ed86",
   "metadata": {
    "vscode": {
     "languageId": "plaintext"
    }
   },
   "outputs": [],
   "source": [
    "# Check for missing values\n",
    "print(\"Missing values in TSLA:\\n\", tsla_df.isnull().sum())\n",
    "print(\"\\nMissing values in BND:\\n\", bnd_df.isnull().sum())\n",
    "print(\"\\nMissing values in SPY:\\n\", spy_df.isnull().sum())\n",
    "\n",
    "# Display basic statistics\n",
    "print(\"\\n--- TSLA Descriptive Statistics ---\")\n",
    "display(tsla_df.describe())"
   ]
  },
  {
   "cell_type": "markdown",
   "id": "7ba9a3c6",
   "metadata": {},
   "source": [
    "There are no missing values in our datasets. `yfinance` provides clean data for this period. Now, let's create a unified dataframe with only the 'Adj Close' prices for easier comparison and portfolio analysis.\n"
   ]
  },
  {
   "cell_type": "code",
   "execution_count": null,
   "id": "2a124a28",
   "metadata": {
    "vscode": {
     "languageId": "plaintext"
    }
   },
   "outputs": [],
   "source": [
    "# Combine the 'Adj Close' of all assets into one DataFrame\n",
    "portfolio_df = pd.DataFrame({\n",
    "    'TSLA': tsla_df['Adj Close'],\n",
    "    'BND': bnd_df['Adj Close'],\n",
    "    'SPY': spy_df['Adj Close']\n",
    "})\n",
    "\n",
    "print(\"Combined Adjusted Close Prices:\")\n",
    "display(portfolio_df.head())\n"
   ]
  },
  {
   "cell_type": "markdown",
   "id": "3a82ed7b",
   "metadata": {},
   "source": [
    "## 3. Visualize Closing Prices\n",
    "\n",
    "[cite_start]Visualizing the adjusted closing prices over time helps us identify long-term trends for each asset[cite: 94].\n",
    "* [cite_start]**TSLA**: High-growth, high-risk stock[cite: 34].\n",
    "* [cite_start]**BND**: Stable bond ETF[cite: 36].\n",
    "* [cite_start]**SPY**: Diversified S&P 500 ETF[cite: 37].\n"
   ]
  },
  {
   "cell_type": "code",
   "execution_count": null,
   "id": "8bb83e08",
   "metadata": {
    "vscode": {
     "languageId": "plaintext"
    }
   },
   "outputs": [],
   "source": [
    "portfolio_df.plot(title='Adjusted Closing Prices (2015-2025)')\n",
    "plt.ylabel('Price (USD)')\n",
    "plt.show()"
   ]
  },
  {
   "cell_type": "markdown",
   "id": "c99b8c10",
   "metadata": {},
   "source": [
    "**Observation:** The plot clearly shows the different characteristics of the assets. TSLA exhibits massive growth and volatility, especially from 2020 onwards. SPY shows steady growth, representative of the broader US market. BND remains relatively stable, as expected from a bond ETF."
   ]
  },
  {
   "cell_type": "code",
   "execution_count": null,
   "id": "b22c6425",
   "metadata": {
    "vscode": {
     "languageId": "plaintext"
    }
   },
   "outputs": [],
   "source": [
    "## 4. Daily Percentage Change (Returns)\n",
    "\n",
    "[cite_start]To analyze volatility and for use in portfolio optimization, we calculate the daily percentage change in price (daily returns)[cite: 95]."
   ]
  },
  {
   "cell_type": "code",
   "execution_count": null,
   "id": "40adc32d",
   "metadata": {
    "vscode": {
     "languageId": "plaintext"
    }
   },
   "outputs": [],
   "source": [
    "# Calculate daily returns\n",
    "daily_returns = portfolio_df.pct_change().dropna()\n",
    "\n",
    "print(\"Daily Returns:\")\n",
    "display(daily_returns.head())\n",
    "\n",
    "# Plot daily returns\n",
    "daily_returns.plot(title='Daily Returns (Volatility)', alpha=0.7)\n",
    "plt.ylabel('Percentage Change')\n",
    "plt.show()"
   ]
  },
  {
   "cell_type": "markdown",
   "id": "555a4c82",
   "metadata": {},
   "source": [
    "**Observation:** The daily returns plot highlights the volatility. TSLA's returns fluctuate much more wildly than SPY and BND. BND is the least volatile, with returns clustering tightly around zero. This visualizes the risk profile of each asset.\n"
   ]
  },
  {
   "cell_type": "code",
   "execution_count": null,
   "id": "3987137f",
   "metadata": {
    "vscode": {
     "languageId": "plaintext"
    }
   },
   "outputs": [],
   "source": [
    "# 30-day rolling statistics for TSLA\n",
    "rolling_mean_30d = portfolio_df['TSLA'].rolling(window=30).mean()\n",
    "rolling_std_30d = portfolio_df['TSLA'].rolling(window=30).std()\n",
    "\n",
    "# Plotting\n",
    "plt.figure(figsize=(15, 7))\n",
    "plt.plot(portfolio_df['TSLA'], label='TSLA Adj Close')\n",
    "plt.plot(rolling_mean_30d, label='30-Day Rolling Mean', color='orange')\n",
    "plt.plot(rolling_std_30d, label='30-Day Rolling Std Dev (Volatility)', color='red', linestyle='--')\n",
    "plt.title('TSLA Price and 30-Day Rolling Statistics')\n",
    "plt.legend()\n",
    "plt.show()\n"
   ]
  },
  {
   "cell_type": "markdown",
   "id": "061ec16e",
   "metadata": {},
   "source": [
    "**Observation:** The rolling mean provides a smoothed version of the price trend. The rolling standard deviation is a direct measure of volatility. We can see how periods of sharp price movement (like in 2020-2021) correspond to significant spikes in the rolling standard deviation, indicating higher risk.\n"
   ]
  },
  {
   "cell_type": "code",
   "execution_count": null,
   "id": "ababd745",
   "metadata": {
    "vscode": {
     "languageId": "plaintext"
    }
   },
   "outputs": [],
   "source": [
    "## 6. Stationarity Test (Augmented Dickey-Fuller)\n",
    "\n",
    "[cite_start]Time series models like ARIMA require the data to be stationary (i.e., its statistical properties like mean and variance are constant over time)[cite: 58, 104]. [cite_start]We use the Augmented Dickey-Fuller (ADF) test to check for stationarity[cite: 102].\n",
    "\n",
    "* **Null Hypothesis (H0):** The series is non-stationary (it has a unit root).\n",
    "* **Alternative Hypothesis (H1):** The series is stationary.\n",
    "\n",
    "We reject the null hypothesis if the p-value is less than a significance level (e.g., 0.05).\n"
   ]
  },
  {
   "cell_type": "code",
   "execution_count": null,
   "id": "e4c83fa0",
   "metadata": {
    "vscode": {
     "languageId": "plaintext"
    }
   },
   "outputs": [],
   "source": [
    "def perform_adf_test(series, name):\n",
    "    \"\"\"Performs and prints the results of an ADF test.\"\"\"\n",
    "    result = adfuller(series.dropna())\n",
    "    print(f'--- ADF Test Results for {name} ---')\n",
    "    print(f'ADF Statistic: {result[0]:.4f}')\n",
    "    print(f'p-value: {result[1]:.4f}')\n",
    "    print('Critical Values:')\n",
    "    for key, value in result[4].items():\n",
    "        print(f'\\t{key}: {value:.4f}')\n",
    "\n",
    "    if result[1] <= 0.05:\n",
    "        print(\"Conclusion: Reject the null hypothesis. The data is stationary.\")\n",
    "    else:\n",
    "        print(\"Conclusion: Fail to reject the null hypothesis. The data is non-stationary.\")\n",
    "\n",
    "# Test on closing prices\n",
    "perform_adf_test(portfolio_df['TSLA'], 'TSLA Closing Price')\n",
    "print(\"\\n\")\n",
    "# Test on daily returns\n",
    "perform_adf_test(daily_returns['TSLA'], 'TSLA Daily Returns')\n"
   ]
  },
  {
   "cell_type": "markdown",
   "id": "b8dca5d4",
   "metadata": {},
   "source": [
    "**Implications:**\n",
    "* The **closing price** is **non-stationary** (p-value > 0.05). This is typical for stock prices and confirms they have a trend.\n",
    "* The **daily returns** are **stationary** (p-value < 0.05). This means the returns revert to a mean, which is a desirable property for many financial models.\n",
    "* Because the price series is non-stationary, we will need to use differencing to make it stationary for the ARIMA model. [cite_start]This corresponds to the 'I' (Integrated) part of ARIMA, represented by the 'd' parameter[cite: 104]."
   ]
  },
  {
   "cell_type": "markdown",
   "id": "0c38a37f",
   "metadata": {},
   "source": [
    "## 7. Foundational Risk Metrics\n",
    "\n",
    "[cite_start]Let's calculate two foundational risk metrics: Value at Risk (VaR) and the Sharpe Ratio[cite: 106].\n",
    "\n",
    "* **Value at Risk (VaR):** Estimates the potential loss in value of an asset or portfolio over a defined period for a given confidence interval. We'll calculate the 95% VaR, which means we are 95% confident that the portfolio will not lose more than this amount on any given day.\n",
    "* **Sharpe Ratio:** Measures the risk-adjusted return. It describes how much excess return you receive for the extra volatility you endure for holding a riskier asset. A higher Sharpe Ratio is better.\n"
   ]
  },
  {
   "cell_type": "code",
   "execution_count": null,
   "id": "24c94329",
   "metadata": {
    "vscode": {
     "languageId": "plaintext"
    }
   },
   "outputs": [],
   "source": [
    "# Value at Risk (VaR) at 95% confidence\n",
    "var_95 = daily_returns['TSLA'].quantile(0.05)\n",
    "print(f\"TSLA 1-day 95% VaR: {var_95:.2%}\")\n",
    "print(f\"This means that on any given day, we can be 95% certain that TSLA's value will not fall by more than {-var_95:.2%}.\\n\")\n",
    "\n",
    "# Sharpe Ratio\n",
    "# Assuming a risk-free rate of 0 for simplicity. The actual rate is low for this period.\n",
    "sharpe_ratios = (daily_returns.mean() * 252) / (daily_returns.std() * np.sqrt(252))\n",
    "print(\"--- Annualized Sharpe Ratios ---\")\n",
    "print(sharpe_ratios)\n"
   ]
  },
  {
   "cell_type": "markdown",
   "id": "bf4e07f2",
   "metadata": {},
   "source": [
    "# Value at Risk (VaR) at 95% confidence\n",
    "var_95 = daily_returns['TSLA'].quantile(0.05)\n",
    "print(f\"TSLA 1-day 95% VaR: {var_95:.2%}\")\n",
    "print(f\"This means that on any given day, we can be 95% certain that TSLA's value will not fall by more than {-var_95:.2%}.\\n\")\n",
    "\n",
    "# Sharpe Ratio\n",
    "# Assuming a risk-free rate of 0 for simplicity. The actual rate is low for this period.\n",
    "sharpe_ratios = (daily_returns.mean() * 252) / (daily_returns.std() * np.sqrt(252))\n",
    "print(\"--- Annualized Sharpe Ratios ---\")\n",
    "print(sharpe_ratios)\n"
   ]
  },
  {
   "cell_type": "code",
   "execution_count": null,
   "id": "1a86104a",
   "metadata": {
    "vscode": {
     "languageId": "plaintext"
    }
   },
   "outputs": [],
   "source": [
    "# Find outliers for TSLA\n",
    "mean_return = daily_returns['TSLA'].mean()\n",
    "std_return = daily_returns['TSLA'].std()\n",
    "cut_off = std_return * 3\n",
    "\n",
    "outliers = daily_returns[(daily_returns['TSLA'] > mean_return + cut_off) | (daily_returns['TSLA'] < mean_return - cut_off)]\n",
    "\n",
    "print(f\"Identified {len(outliers)} outlier days for TSLA (returns > 3 standard deviations from the mean).\")\n",
    "print(\"\\nTop 5 largest positive return days:\")\n",
    "display(outliers['TSLA'].nlargest(5))\n",
    "print(\"\\nTop 5 largest negative return days:\")\n",
    "display(outliers['TSLA'].nsmallest(5))\n"
   ]
  },
  {
   "cell_type": "markdown",
   "id": "e5bb649c",
   "metadata": {},
   "source": [
    "### EDA Summary\n",
    "\n",
    "This initial analysis has given us several key insights:\n",
    "1.  [cite_start]**Asset Profiles:** We've confirmed the expected profiles: TSLA is high-growth and high-risk, SPY represents steady market growth, and BND provides stability[cite: 34, 36, 37].\n",
    "2.  **Volatility:** TSLA's volatility is significantly higher than the other assets, presenting both opportunities and risks.\n",
    "3.  **Stationarity:** Stock prices are non-stationary, but their daily returns are stationary. [cite_start]This is a crucial finding for our modeling approach in the next task[cite: 103].\n",
    "4.  **Risk:** We've quantified the historical risk and risk-adjusted returns using VaR and the Sharpe Ratio, providing a baseline for performance evaluation.\n"
   ]
  }
 ],
 "metadata": {
  "language_info": {
   "name": "python"
  }
 },
 "nbformat": 4,
 "nbformat_minor": 5
}
